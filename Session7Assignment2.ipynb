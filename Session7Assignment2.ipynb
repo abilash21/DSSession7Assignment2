{
 "cells": [
  {
   "cell_type": "markdown",
   "metadata": {},
   "source": [
    "A die marked A to E is rolled 50 times. Find the probability of getting a “D” exactly 5\n",
    "times."
   ]
  },
  {
   "cell_type": "code",
   "execution_count": 5,
   "metadata": {},
   "outputs": [
    {
     "name": "stdout",
     "output_type": "stream",
     "text": [
      "No. of Times Die Rolled n =  50\n",
      "No. of Times Die lands on 'D' =  5\n",
      "Probability of Success in Single roll of the die s= 1/5 0.2\n",
      "Probability of Failure in Single roll of the die 1-s= 1-1/5 = 4/5 0.2\n",
      "\n",
      "\n",
      "Bionominal Distribution Formula = C(n,k)s**k(1−s)**(n−k)\n",
      "\n",
      "\n",
      "C(n, k) to be represented as n!/(k!(n-k)!)\n",
      "C(n,k) = C(50,5)\n",
      "\n",
      "\n",
      "Where n! = n(n-1)(n-2)...(n-k+1)\n",
      "Factorial value for n! =  254251200\n",
      "\n",
      "\n",
      "And Where (k!(n-k)!) = (n-k)(n-k-1)(n-k-2)...(2)(1)\n",
      "Factorial value for (k!(n-k)!)=  119622220865480194561963161495657715064383733760000000000\n",
      "\n",
      "\n",
      "C(n, k) or  n!/(k!(n-k)!) Value =  2.1254512594772445e-48\n",
      "\n",
      "\n",
      "The Approximate Proability of Die landing 5 times on D =   2.962446685593634e-56\n"
     ]
    }
   ],
   "source": [
    "##### from functools import reduce\n",
    "#No of Times Die rolled = n = 50\n",
    "#Each Roll has 5 possibilities of which 1 is D\n",
    "#No of times die falls on 'D' of 50 Rolls = k = 5\n",
    "#Probability of getting 'D' on a single Roll (Success) = s = 1/5\n",
    "#Probability of not getting 'D' on a single Roll (Failure) = 1-s = 4/5  \n",
    "# Bionominal Distribution Formula = C(n,k)s**k(1−s)**(n−k)\n",
    "# C(50,5)*(1/5)**5(4/5)**45\n",
    "n = 50\n",
    "print(\"No. of Times Die Rolled n = \", 50)\n",
    "k = 5\n",
    "print(\"No. of Times Die lands on 'D' = \", k)\n",
    "s = 1/5\n",
    "print(\"Probability of Success in Single roll of the die s= 1/5\", s)\n",
    "print(\"Probability of Failure in Single roll of the die 1-s= 1-1/5 = 4/5\", s)\n",
    "print(\"\\n\")\n",
    "print(\"Bionominal Distribution Formula = C(n,k)s**k(1−s)**(n−k)\")\n",
    "print(\"\\n\")\n",
    "print(\"C(n, k) to be represented as n!/(k!(n-k)!)\")\n",
    "print(\"C(n,k) = C(50,5)\")\n",
    "print(\"\\n\")\n",
    "print(\"Where n! = n(n-1)(n-2)...(n-k+1)\")\n",
    "nFactoriallist = [i for i in range(n,(n-k),-1)]\n",
    "#print(nFactoriallist)\n",
    "nFactorial = reduce(lambda x, y: x*y, nFactoriallist) #Getting Factorial value for n!\n",
    "print(\"Factorial value for n! = \", nFactorial)\n",
    "print(\"\\n\")\n",
    "print(\"And Where (k!(n-k)!) = (n-k)(n-k-1)(n-k-2)...(2)(1)\")\n",
    "kFactoriallist = [ i for i in range((n-k),0,-1)]\n",
    "#print(kFactoriallist)\n",
    "kFactorial = reduce(lambda x, y: x*y, kFactoriallist) #Getting Factorial value for (k!(n-k)!) \n",
    "print(\"Factorial value for (k!(n-k)!)= \",kFactorial) \n",
    "print(\"\\n\")\n",
    "print(\"C(n, k) or  n!/(k!(n-k)!) Value = \", nFactorial/kFactorial )\n",
    "print(\"\\n\")\n",
    "probability = nFactorial/kFactorial *(s**k)*(1-s)**(n-k)\n",
    "print(\"The Approximate Proability of Die landing 5 times on D =  \", probability)"
   ]
  },
  {
   "cell_type": "code",
   "execution_count": null,
   "metadata": {
    "collapsed": true
   },
   "outputs": [],
   "source": []
  }
 ],
 "metadata": {
  "kernelspec": {
   "display_name": "Python 3",
   "language": "python",
   "name": "python3"
  },
  "language_info": {
   "codemirror_mode": {
    "name": "ipython",
    "version": 3
   },
   "file_extension": ".py",
   "mimetype": "text/x-python",
   "name": "python",
   "nbconvert_exporter": "python",
   "pygments_lexer": "ipython3",
   "version": "3.6.3"
  }
 },
 "nbformat": 4,
 "nbformat_minor": 2
}
